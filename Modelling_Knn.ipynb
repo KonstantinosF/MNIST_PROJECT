{
 "cells": [
  {
   "cell_type": "markdown",
   "metadata": {},
   "source": [
    "# Dependecies"
   ]
  },
  {
   "cell_type": "code",
   "execution_count": 2,
   "metadata": {},
   "outputs": [],
   "source": [
    "import pandas as pd\n",
    "\n",
    "import numpy as np\n",
    "\n",
    "from matplotlib.pyplot import imshow\n",
    "\n",
    "import numpy as np\n",
    "import matplotlib.pyplot as plt\n",
    "\n",
    "from sklearn.neighbors import DistanceMetric\n",
    "from sklearn.neighbors import NearestNeighbors\n",
    "from sklearn.neighbors import KNeighborsClassifier\n",
    "from sklearn import tree\n",
    "\n",
    "#import pydot \n",
    "from subprocess import call\n",
    "\n",
    "import warnings\n",
    "warnings.filterwarnings('ignore')\n",
    "\n",
    "%matplotlib inline"
   ]
  },
  {
   "cell_type": "markdown",
   "metadata": {},
   "source": [
    "<h3> Load the Dataset </h3>"
   ]
  },
  {
   "cell_type": "code",
   "execution_count": 1,
   "metadata": {},
   "outputs": [
    {
     "name": "stdout",
     "output_type": "stream",
     "text": [
      "Assignmet_2.docx                      Modelling_Knn.ipynb\r\n",
      "Dummy estimators.ipynb                Modelling_SVM.ipynb\r\n",
      "EDA.ipynb                             Modelling_SVM_V2.ipynb\r\n",
      "EDA_V2_Kaggle.ipynb                   XGBOOST.ipynb\r\n",
      "Exercise 2.pdf                        \u001b[31mdigit_recognizer_dataset.csv\u001b[m\u001b[m*\r\n",
      "Feature Selection.ipynb               digit_recognizer_dataset_reduced.csv\r\n",
      "Icon?                                 ~$signmet_2.docx\r\n",
      "Modelling_Decision_Trees.ipynb\r\n"
     ]
    }
   ],
   "source": [
    "ls"
   ]
  },
  {
   "cell_type": "code",
   "execution_count": 3,
   "metadata": {},
   "outputs": [],
   "source": [
    "data = pd.read_csv(\"digit_recognizer_dataset_reduced.csv\")"
   ]
  },
  {
   "cell_type": "code",
   "execution_count": 5,
   "metadata": {
    "scrolled": true
   },
   "outputs": [
    {
     "data": {
      "text/html": [
       "<div>\n",
       "<style scoped>\n",
       "    .dataframe tbody tr th:only-of-type {\n",
       "        vertical-align: middle;\n",
       "    }\n",
       "\n",
       "    .dataframe tbody tr th {\n",
       "        vertical-align: top;\n",
       "    }\n",
       "\n",
       "    .dataframe thead th {\n",
       "        text-align: right;\n",
       "    }\n",
       "</style>\n",
       "<table border=\"1\" class=\"dataframe\">\n",
       "  <thead>\n",
       "    <tr style=\"text-align: right;\">\n",
       "      <th></th>\n",
       "      <th>label</th>\n",
       "      <th>pixel12</th>\n",
       "      <th>pixel13</th>\n",
       "      <th>pixel14</th>\n",
       "      <th>pixel15</th>\n",
       "      <th>pixel32</th>\n",
       "      <th>pixel33</th>\n",
       "      <th>pixel34</th>\n",
       "      <th>pixel35</th>\n",
       "      <th>pixel36</th>\n",
       "      <th>...</th>\n",
       "      <th>pixel770</th>\n",
       "      <th>pixel771</th>\n",
       "      <th>pixel772</th>\n",
       "      <th>pixel773</th>\n",
       "      <th>pixel774</th>\n",
       "      <th>pixel775</th>\n",
       "      <th>pixel776</th>\n",
       "      <th>pixel777</th>\n",
       "      <th>pixel778</th>\n",
       "      <th>pixel779</th>\n",
       "    </tr>\n",
       "  </thead>\n",
       "  <tbody>\n",
       "    <tr>\n",
       "      <th>0</th>\n",
       "      <td>1</td>\n",
       "      <td>0</td>\n",
       "      <td>0</td>\n",
       "      <td>0</td>\n",
       "      <td>0</td>\n",
       "      <td>0</td>\n",
       "      <td>0</td>\n",
       "      <td>0</td>\n",
       "      <td>0</td>\n",
       "      <td>0</td>\n",
       "      <td>...</td>\n",
       "      <td>0</td>\n",
       "      <td>0</td>\n",
       "      <td>0</td>\n",
       "      <td>0</td>\n",
       "      <td>0</td>\n",
       "      <td>0</td>\n",
       "      <td>0</td>\n",
       "      <td>0</td>\n",
       "      <td>0</td>\n",
       "      <td>0</td>\n",
       "    </tr>\n",
       "    <tr>\n",
       "      <th>1</th>\n",
       "      <td>0</td>\n",
       "      <td>0</td>\n",
       "      <td>0</td>\n",
       "      <td>0</td>\n",
       "      <td>0</td>\n",
       "      <td>0</td>\n",
       "      <td>0</td>\n",
       "      <td>0</td>\n",
       "      <td>0</td>\n",
       "      <td>0</td>\n",
       "      <td>...</td>\n",
       "      <td>0</td>\n",
       "      <td>0</td>\n",
       "      <td>0</td>\n",
       "      <td>0</td>\n",
       "      <td>0</td>\n",
       "      <td>0</td>\n",
       "      <td>0</td>\n",
       "      <td>0</td>\n",
       "      <td>0</td>\n",
       "      <td>0</td>\n",
       "    </tr>\n",
       "    <tr>\n",
       "      <th>2</th>\n",
       "      <td>1</td>\n",
       "      <td>0</td>\n",
       "      <td>0</td>\n",
       "      <td>0</td>\n",
       "      <td>0</td>\n",
       "      <td>0</td>\n",
       "      <td>0</td>\n",
       "      <td>0</td>\n",
       "      <td>0</td>\n",
       "      <td>0</td>\n",
       "      <td>...</td>\n",
       "      <td>0</td>\n",
       "      <td>0</td>\n",
       "      <td>0</td>\n",
       "      <td>0</td>\n",
       "      <td>0</td>\n",
       "      <td>0</td>\n",
       "      <td>0</td>\n",
       "      <td>0</td>\n",
       "      <td>0</td>\n",
       "      <td>0</td>\n",
       "    </tr>\n",
       "    <tr>\n",
       "      <th>3</th>\n",
       "      <td>4</td>\n",
       "      <td>0</td>\n",
       "      <td>0</td>\n",
       "      <td>0</td>\n",
       "      <td>0</td>\n",
       "      <td>0</td>\n",
       "      <td>0</td>\n",
       "      <td>0</td>\n",
       "      <td>0</td>\n",
       "      <td>0</td>\n",
       "      <td>...</td>\n",
       "      <td>0</td>\n",
       "      <td>0</td>\n",
       "      <td>0</td>\n",
       "      <td>0</td>\n",
       "      <td>0</td>\n",
       "      <td>0</td>\n",
       "      <td>0</td>\n",
       "      <td>0</td>\n",
       "      <td>0</td>\n",
       "      <td>0</td>\n",
       "    </tr>\n",
       "    <tr>\n",
       "      <th>4</th>\n",
       "      <td>0</td>\n",
       "      <td>0</td>\n",
       "      <td>0</td>\n",
       "      <td>0</td>\n",
       "      <td>0</td>\n",
       "      <td>0</td>\n",
       "      <td>0</td>\n",
       "      <td>0</td>\n",
       "      <td>0</td>\n",
       "      <td>0</td>\n",
       "      <td>...</td>\n",
       "      <td>0</td>\n",
       "      <td>0</td>\n",
       "      <td>0</td>\n",
       "      <td>0</td>\n",
       "      <td>0</td>\n",
       "      <td>0</td>\n",
       "      <td>0</td>\n",
       "      <td>0</td>\n",
       "      <td>0</td>\n",
       "      <td>0</td>\n",
       "    </tr>\n",
       "  </tbody>\n",
       "</table>\n",
       "<p>5 rows × 709 columns</p>\n",
       "</div>"
      ],
      "text/plain": [
       "   label  pixel12  pixel13  pixel14  pixel15  pixel32  pixel33  pixel34  \\\n",
       "0      1        0        0        0        0        0        0        0   \n",
       "1      0        0        0        0        0        0        0        0   \n",
       "2      1        0        0        0        0        0        0        0   \n",
       "3      4        0        0        0        0        0        0        0   \n",
       "4      0        0        0        0        0        0        0        0   \n",
       "\n",
       "   pixel35  pixel36  ...  pixel770  pixel771  pixel772  pixel773  pixel774  \\\n",
       "0        0        0  ...         0         0         0         0         0   \n",
       "1        0        0  ...         0         0         0         0         0   \n",
       "2        0        0  ...         0         0         0         0         0   \n",
       "3        0        0  ...         0         0         0         0         0   \n",
       "4        0        0  ...         0         0         0         0         0   \n",
       "\n",
       "   pixel775  pixel776  pixel777  pixel778  pixel779  \n",
       "0         0         0         0         0         0  \n",
       "1         0         0         0         0         0  \n",
       "2         0         0         0         0         0  \n",
       "3         0         0         0         0         0  \n",
       "4         0         0         0         0         0  \n",
       "\n",
       "[5 rows x 709 columns]"
      ]
     },
     "execution_count": 5,
     "metadata": {},
     "output_type": "execute_result"
    }
   ],
   "source": [
    "data.head()"
   ]
  },
  {
   "cell_type": "code",
   "execution_count": 4,
   "metadata": {},
   "outputs": [],
   "source": [
    "# Seperate the dataset into Features and Labels\n",
    "y_labels = data['label'].values       # Target values - numpy.ndarray\n",
    "X_features = data.drop(['label'],axis=1).values"
   ]
  },
  {
   "cell_type": "code",
   "execution_count": 5,
   "metadata": {},
   "outputs": [
    {
     "name": "stdout",
     "output_type": "stream",
     "text": [
      "[0.09748938 0.07160266 0.06145903 0.05379302 0.04894262 0.04303214\n",
      " 0.03277051 0.02892103 0.02766902 0.02348871 0.02099321 0.02058999\n",
      " 0.01702488 0.01692612 0.0158091 ]\n"
     ]
    }
   ],
   "source": [
    "from sklearn.decomposition import PCA\n",
    "\n",
    "pca = PCA(n_components=15, whiten=True)\n",
    "X_pca = pca.fit_transform(X_features)\n",
    "\n",
    "print(pca.explained_variance_ratio_)"
   ]
  },
  {
   "cell_type": "markdown",
   "metadata": {},
   "source": [
    "<h3> Search the best distance metric using Cross Validation </h3>"
   ]
  },
  {
   "cell_type": "code",
   "execution_count": 9,
   "metadata": {
    "scrolled": true
   },
   "outputs": [
    {
     "name": "stdout",
     "output_type": "stream",
     "text": [
      "--> Building model for euclidean metric\n",
      ": Accuracy scores [0.94614286 0.9435     0.94642857]\n",
      "--> Building model for manhattan metric\n",
      ": Accuracy scores [0.94385714 0.9425     0.94564286]\n",
      "--> Building model for chebyshev metric\n",
      ": Accuracy scores [0.93171429 0.93042857 0.934     ]\n"
     ]
    },
    {
     "data": {
      "image/png": "[encoded data removed]",
      "text/plain": [
       "<Figure size 432x288 with 1 Axes>"
      ]
     },
     "metadata": {
      "needs_background": "light"
     },
     "output_type": "display_data"
    }
   ],
   "source": [
    "# Classifier implementing the k-nearest neighbors vote.\n",
    "import gc\n",
    "\n",
    "from sklearn.model_selection import cross_val_score\n",
    "from sklearn.preprocessing import StandardScaler\n",
    "from sklearn.pipeline import make_pipeline\n",
    "\n",
    "\n",
    "import matplotlib.pyplot as plt \n",
    "%matplotlib inline\n",
    "\n",
    "metrics = ['euclidean', 'manhattan', 'chebyshev']\n",
    "K=10\n",
    "scores = []\n",
    "for metric in metrics:\n",
    "    print(\"--> Building model for {} metric\".format(metric))\n",
    "    model = make_pipeline(StandardScaler(), KNeighborsClassifier(n_neighbors=K, weights='uniform',metric=metric))\n",
    "    model_scores = cross_val_score(model, X_pca, y_labels, cv=3, n_jobs=-1, scoring='accuracy')\n",
    "    print(\": Accuracy scores {}\".format(model_scores))\n",
    "    scores.append(model_scores.mean()*100)\n",
    "    del model\n",
    "    gc.collect()\n",
    "\n",
    "plt.plot(metrics, scores)\n",
    "plt.xlabel('metrics Type')\n",
    "plt.ylabel('Cross-Validated Mean Accuracy')\n",
    "plt.show()"
   ]
  },
  {
   "cell_type": "markdown",
   "metadata": {},
   "source": [
    "<em><i> As can be seen from the figure above the best distance metric is the \"euclidean\" one.</i></em>"
   ]
  },
  {
   "cell_type": "markdown",
   "metadata": {},
   "source": [
    "<h3> Search for the best number of neighbors using Cross Validation </h3>"
   ]
  },
  {
   "cell_type": "code",
   "execution_count": 11,
   "metadata": {
    "scrolled": true
   },
   "outputs": [
    {
     "name": "stdout",
     "output_type": "stream",
     "text": [
      "--> Building model for 1 neighbors\n",
      ": Accuracy scores [0.94171429 0.93942857 0.94264286]\n",
      "--> Building model for 2 neighbors\n",
      ": Accuracy scores [0.93657143 0.93735714 0.93585714]\n",
      "--> Building model for 3 neighbors\n",
      ": Accuracy scores [0.946      0.94621429 0.94671429]\n",
      "--> Building model for 4 neighbors\n",
      ": Accuracy scores [0.94707143 0.94771429 0.94821429]\n",
      "--> Building model for 5 neighbors\n",
      ": Accuracy scores [0.94757143 0.945      0.94735714]\n",
      "--> Building model for 6 neighbors\n",
      ": Accuracy scores [0.94692857 0.946      0.94628571]\n",
      "--> Building model for 7 neighbors\n",
      ": Accuracy scores [0.94735714 0.944      0.94671429]\n",
      "--> Building model for 8 neighbors\n",
      ": Accuracy scores [0.94714286 0.94542857 0.94614286]\n",
      "--> Building model for 9 neighbors\n",
      ": Accuracy scores [0.94671429 0.9445     0.94507143]\n"
     ]
    },
    {
     "data": {
      "image/png": "[encoded data removed]",
      "text/plain": [
       "<Figure size 432x288 with 1 Axes>"
      ]
     },
     "metadata": {
      "needs_background": "light"
     },
     "output_type": "display_data"
    }
   ],
   "source": [
    "import gc\n",
    "\n",
    "from sklearn.model_selection import cross_val_score\n",
    "from sklearn.preprocessing import StandardScaler\n",
    "from sklearn.pipeline import make_pipeline\n",
    "\n",
    "\n",
    "import matplotlib.pyplot as plt \n",
    "%matplotlib inline\n",
    "\n",
    "neigh = [x for x in range(1,10)]\n",
    "scores = []\n",
    "for k in neigh:\n",
    "    print(\"--> Building model for {} neighbors\".format(k))\n",
    "    model = make_pipeline(StandardScaler(), KNeighborsClassifier(n_neighbors=k, weights='uniform',metric='euclidean'))\n",
    "    model_scores = cross_val_score(model, X_pca, y_labels, cv=3, n_jobs=-1, scoring='accuracy')\n",
    "    print(\": Accuracy scores {}\".format(model_scores))\n",
    "    scores.append(model_scores.mean()*100)\n",
    "    del model\n",
    "    gc.collect()\n",
    "\n",
    "plt.plot(neigh, scores)\n",
    "plt.xlabel(f\"neigh = {k}\")\n",
    "plt.ylabel('Cross-Validated Mean Accuracy')\n",
    "plt.show()"
   ]
  },
  {
   "cell_type": "markdown",
   "metadata": {},
   "source": [
    "<em><i> As can be seen from the figure above the optimum number of neighbors is 4.</i></em>"
   ]
  },
  {
   "cell_type": "markdown",
   "metadata": {},
   "source": [
    "<h3> Train and evaluate a Decision Tree using the previously determined optimum hyper-parameters </h3>"
   ]
  },
  {
   "cell_type": "code",
   "execution_count": 7,
   "metadata": {},
   "outputs": [
    {
     "name": "stdout",
     "output_type": "stream",
     "text": [
      "Accuracy scores [0.94880952 0.9502381  0.94666667 0.9477381  0.95011905]\n",
      "Mean accuracy 0.9487142857142856\n"
     ]
    }
   ],
   "source": [
    "# 5-Fold Cross - Validation \n",
    "from sklearn.model_selection import cross_val_score\n",
    "model = KNeighborsClassifier(n_neighbors=4, weights='uniform',metric='euclidean')\n",
    "model_scores = cross_val_score(model, X_pca, y_labels, cv=5, n_jobs=-1, scoring='accuracy')\n",
    "\n",
    "print(\"Accuracy scores {}\".format(model_scores))\n",
    "print(\"Mean accuracy {}\".format(model_scores.mean()))"
   ]
  },
  {
   "cell_type": "markdown",
   "metadata": {},
   "source": [
    "<h3> Train and Evaluate using Random Split using the previously determined optimum hyper-parameters </h3>"
   ]
  },
  {
   "cell_type": "code",
   "execution_count": 9,
   "metadata": {},
   "outputs": [],
   "source": [
    "from sklearn.model_selection import train_test_split\n",
    "\n",
    "X_train, X_test, y_train, y_test = train_test_split(X_pca, y_labels, test_size=0.33, random_state=42)"
   ]
  },
  {
   "cell_type": "code",
   "execution_count": 12,
   "metadata": {
    "scrolled": true
   },
   "outputs": [
    {
     "name": "stdout",
     "output_type": "stream",
     "text": [
      " Accuracy Score: 0.9479076479076479\n",
      "\n",
      " Confusion Matrix \n",
      "\n",
      "[[1320    0    2    1    1    2    6    0    0    1]\n",
      " [   0 1511    1    1    1    1    1    1    1    2]\n",
      " [   7    8 1349    3    3    4    5   21   11    3]\n",
      " [   6   10   13 1350    0   32    3    8   40    9]\n",
      " [   3    3    4    0 1289    2    6    1    1   49]\n",
      " [   1    5    6   44    1 1118   14    1    7    8]\n",
      " [  10    1    2    1    1    8 1370    0    4    0]\n",
      " [   0   15   12    4    9    2    1 1411    1   25]\n",
      " [   3    7    4   37    6   28   13    7 1220    9]\n",
      " [   7    5    3   21   60    8    3   36    5 1200]]\n"
     ]
    }
   ],
   "source": [
    "from sklearn.metrics import classification_report, confusion_matrix\n",
    "from sklearn.metrics import accuracy_score\n",
    "\n",
    "model = KNeighborsClassifier(n_neighbors=4, weights='uniform',metric='euclidean')\n",
    "model.fit(X_train,y_train)\n",
    "\n",
    "predictions = model.predict(X_test)\n",
    "conf_matrix = confusion_matrix(y_test,predictions)\n",
    "\n",
    "print(f\" Accuracy Score: {accuracy_score(y_test, predictions)}\\n\")\n",
    "print(\" Confusion Matrix \\n\")\n",
    "print(conf_matrix)"
   ]
  },
  {
   "cell_type": "markdown",
   "metadata": {},
   "source": [
    "<h3> Evaluation Metrics:  Precision - Recall - F1_Score </h3>"
   ]
  },
  {
   "cell_type": "code",
   "execution_count": 14,
   "metadata": {},
   "outputs": [
    {
     "name": "stdout",
     "output_type": "stream",
     "text": [
      "Macro precision score: 0.95\n"
     ]
    }
   ],
   "source": [
    "from sklearn.metrics import precision_score\n",
    "precision = precision_score(y_test, predictions, average='macro') # precision_score(y_true, y_pred, average='macro')\n",
    "\n",
    "print('Macro precision score: {0:0.2f}'.format(\n",
    "      precision))"
   ]
  },
  {
   "cell_type": "code",
   "execution_count": 15,
   "metadata": {},
   "outputs": [
    {
     "name": "stdout",
     "output_type": "stream",
     "text": [
      "Macro recall score: 0.95\n"
     ]
    }
   ],
   "source": [
    "from sklearn.metrics import recall_score\n",
    "recall = recall_score(y_test, predictions, average='macro') \n",
    "\n",
    "print('Macro recall score: {0:0.2f}'.format(\n",
    "      recall))"
   ]
  },
  {
   "cell_type": "code",
   "execution_count": 16,
   "metadata": {},
   "outputs": [
    {
     "name": "stdout",
     "output_type": "stream",
     "text": [
      "Macro f1 score: 0.95\n"
     ]
    }
   ],
   "source": [
    "from sklearn.metrics import f1_score\n",
    "f1_s = f1_score(y_test, predictions, average='macro')\n",
    "\n",
    "print('Macro f1 score: {0:0.2f}'.format(\n",
    "      f1_s))"
   ]
  },
  {
   "cell_type": "code",
   "execution_count": null,
   "metadata": {},
   "outputs": [],
   "source": []
  },
  {
   "cell_type": "markdown",
   "metadata": {},
   "source": [
    "<h4> References </h4>"
   ]
  },
  {
   "cell_type": "markdown",
   "metadata": {},
   "source": [
    "https://scikit-learn.org/stable/modules/neighbors.html#neighbors"
   ]
  }
 ],
 "metadata": {
  "kernelspec": {
   "display_name": "Python 3",
   "language": "python",
   "name": "python3"
  },
  "language_info": {
   "codemirror_mode": {
    "name": "ipython",
    "version": 3
   },
   "file_extension": ".py",
   "mimetype": "text/x-python",
   "name": "python",
   "nbconvert_exporter": "python",
   "pygments_lexer": "ipython3",
   "version": "3.6.11"
  }
 },
 "nbformat": 4,
 "nbformat_minor": 4
}
